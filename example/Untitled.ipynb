{
 "cells": [
  {
   "cell_type": "code",
   "execution_count": null,
   "metadata": {
    "collapsed": false
   },
   "outputs": [],
   "source": [
    "# Import smtplib for the actual sending function\n",
    "import smtplib\n",
    "\n",
    "# Import the email modules we'll need\n",
    "from email.mime.text import MIMEText\n",
    "\n",
    "msg = MIMEText(\"this is a test message\\n\")\n",
    "\n",
    "me = \"harmsfarms@nowhere.net\"\n",
    "you = \"harmsm@gmail.com\"\n",
    "    \n",
    "# me == the sender's email address\n",
    "# you == the recipient's email address\n",
    "msg['Subject'] = \"farm status\"\n",
    "msg['From'] = me\n",
    "msg['To'] = you\n",
    "\n",
    "# Send the message via our own SMTP server.\n",
    "s = smtplib.SMTP('localhost')\n",
    "s.send_message(msg)\n",
    "s.quit()"
   ]
  },
  {
   "cell_type": "code",
   "execution_count": null,
   "metadata": {
    "collapsed": true
   },
   "outputs": [],
   "source": [
    "class X:\n",
    "    \n",
    "    def __init__(self):\n",
    "        \n",
    "        self.__setattr__(\"a\",5)\n",
    "        \n",
    "        print(self.a)"
   ]
  },
  {
   "cell_type": "code",
   "execution_count": null,
   "metadata": {
    "collapsed": false
   },
   "outputs": [],
   "source": [
    "x = X()\n",
    "\n",
    "\n"
   ]
  },
  {
   "cell_type": "code",
   "execution_count": 2,
   "metadata": {
    "collapsed": false
   },
   "outputs": [
    {
     "name": "stdout",
     "output_type": "stream",
     "text": [
      "2017-04-13 08:46:29.119536\n",
      "2017-04-13 06:00:27.999984\n",
      "2017-04-13 06:30:24.999984\n",
      "2017-04-13 19:54:47.999984\n",
      "2017-04-13 20:24:43.999984\n"
     ]
    }
   ],
   "source": [
    "import sunset\n",
    "#x = sunset.FarmInfo(\"farm.json\")\n",
    "\n",
    "print(x.last_update)\n",
    "print(x.twilight_begin)\n",
    "print(x.sunrise)\n",
    "print(x.sunset)\n",
    "print(x.twilight_end)"
   ]
  },
  {
   "cell_type": "code",
   "execution_count": null,
   "metadata": {
    "collapsed": true
   },
   "outputs": [],
   "source": []
  }
 ],
 "metadata": {
  "kernelspec": {
   "display_name": "Python 3",
   "language": "python",
   "name": "python3"
  },
  "language_info": {
   "codemirror_mode": {
    "name": "ipython",
    "version": 3
   },
   "file_extension": ".py",
   "mimetype": "text/x-python",
   "name": "python",
   "nbconvert_exporter": "python",
   "pygments_lexer": "ipython3",
   "version": "3.5.2"
  }
 },
 "nbformat": 4,
 "nbformat_minor": 1
}
